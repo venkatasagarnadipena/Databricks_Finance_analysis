{
 "cells": [
  {
   "cell_type": "code",
   "execution_count": 0,
   "metadata": {
    "application/vnd.databricks.v1+cell": {
     "cellMetadata": {
      "byteLimit": 2048000,
      "rowLimit": 10000
     },
     "inputWidgets": {},
     "nuid": "5af0e62b-8e0d-42be-9cc1-f42ddce5823c",
     "showTitle": false,
     "title": ""
    }
   },
   "outputs": [],
   "source": [
    "from pyspark.sql.functions import*\n",
    "from pyspark.sql.window import *"
   ]
  },
  {
   "cell_type": "code",
   "execution_count": 0,
   "metadata": {
    "application/vnd.databricks.v1+cell": {
     "cellMetadata": {},
     "inputWidgets": {},
     "nuid": "08cdbd4c-c964-4ef9-821c-45a0482c4432",
     "showTitle": false,
     "title": ""
    }
   },
   "outputs": [],
   "source": [
    "# Mention your Hive path where the raw file is ingested in the variable\n",
    "uploaded_parh=\"\""
   ]
  },
  {
   "cell_type": "code",
   "execution_count": 0,
   "metadata": {
    "application/vnd.databricks.v1+cell": {
     "cellMetadata": {},
     "inputWidgets": {},
     "nuid": "e1d23348-d6e1-47b0-a64d-4beed1828806",
     "showTitle": false,
     "title": ""
    }
   },
   "outputs": [],
   "source": [
    "dbutils.fs.cp(uploaded_path,\"/FileStore/tables/Annual_finance_raw\",True)"
   ]
  },
  {
   "cell_type": "code",
   "execution_count": 0,
   "metadata": {
    "application/vnd.databricks.v1+cell": {
     "cellMetadata": {
      "byteLimit": 2048000,
      "rowLimit": 10000
     },
     "inputWidgets": {},
     "nuid": "d6da7b5d-3a20-40a2-bb8f-5afe88b92b44",
     "showTitle": false,
     "title": ""
    }
   },
   "outputs": [],
   "source": [
    "# %fs ls /FileStore/tables/Annual_finance_raw"
   ]
  },
  {
   "cell_type": "markdown",
   "metadata": {
    "application/vnd.databricks.v1+cell": {
     "cellMetadata": {},
     "inputWidgets": {},
     "nuid": "9fede289-869f-4384-a95d-121716c89b75",
     "showTitle": false,
     "title": ""
    }
   },
   "source": [
    "######1. Rename the \"industry_code_ANZSIC\" and \"industry_name_ANZSIC\" with \"industry_code\" and \"industry_name” respectively"
   ]
  },
  {
   "cell_type": "code",
   "execution_count": 0,
   "metadata": {
    "application/vnd.databricks.v1+cell": {
     "cellMetadata": {
      "byteLimit": 2048000,
      "rowLimit": 10000
     },
     "inputWidgets": {},
     "nuid": "bbc3ba4f-e980-4f5a-a957-5bf99f57577c",
     "showTitle": false,
     "title": ""
    }
   },
   "outputs": [
    {
     "output_type": "stream",
     "name": "stdout",
     "output_type": "stream",
     "text": [
      "+----+-------------+---------------------------------+------------+-----------------------------------------------+-----+-----------------+\n|year|industry_code|industry_name                    |rme_size_grp|variable                                       |value|unit             |\n+----+-------------+---------------------------------+------------+-----------------------------------------------+-----+-----------------+\n|2011|A            |Agriculture, Forestry and Fishing|a_0         |Activity unit                                  |46134|COUNT            |\n|2011|A            |Agriculture, Forestry and Fishing|a_0         |Rolling mean employees                         |0    |COUNT            |\n|2011|A            |Agriculture, Forestry and Fishing|a_0         |Salaries and wages paid                        |279  |DOLLARS(millions)|\n|2011|A            |Agriculture, Forestry and Fishing|a_0         |Sales, government funding, grants and subsidies|8187 |DOLLARS(millions)|\n|2011|A            |Agriculture, Forestry and Fishing|a_0         |Total income                                   |8866 |DOLLARS(millions)|\n+----+-------------+---------------------------------+------------+-----------------------------------------------+-----+-----------------+\nonly showing top 5 rows\n\n"
     ]
    }
   ],
   "source": [
    "df=spark.read.format(\"csv\").option(\"header\",True).option(\"delimiter\",\",\").option(\"Inferscheam\",True).load(\"/FileStore/tables/Annual_finance_raw\")\n",
    "df=df.withColumnRenamed(\"industry_code_ANZSIC\",\"industry_code\").withColumnRenamed(\"industry_name_ANZSIC\",\"industry_name\")\n",
    "df.show(5,truncate=False)"
   ]
  },
  {
   "cell_type": "markdown",
   "metadata": {
    "application/vnd.databricks.v1+cell": {
     "cellMetadata": {},
     "inputWidgets": {},
     "nuid": "93ccb27d-e899-418f-9a52-cc1ed739d01d",
     "showTitle": false,
     "title": ""
    }
   },
   "source": [
    "#####\n",
    "2. Create a new columns called \"Amount_in_Dollers\" using \"unit\" column where if the unit value is equal to \"DOLLARS(millions)\" \n",
    "then multiply the \"value\" column with 10000000 else assign it as 0\n",
    "3. Create a new columns called \"Amount_in_Rupees\" using \"unit\" column where if the unit value is equal to \"COUNT\" \n",
    "then multiply the \"value\" column with 10000000 else assign it as 0"
   ]
  },
  {
   "cell_type": "code",
   "execution_count": 0,
   "metadata": {
    "application/vnd.databricks.v1+cell": {
     "cellMetadata": {
      "byteLimit": 2048000,
      "rowLimit": 10000
     },
     "inputWidgets": {},
     "nuid": "36493d94-bbd2-4134-b036-d74d54763539",
     "showTitle": false,
     "title": ""
    }
   },
   "outputs": [
    {
     "output_type": "stream",
     "name": "stdout",
     "output_type": "stream",
     "text": [
      "+----+-------------+---------------------------------+------------+-----------------------------------------------+-----+-----------------+-----------------+----------------+\n|year|industry_code|industry_name                    |rme_size_grp|variable                                       |value|unit             |Amount_in_Dollers|Amount_in_Rupees|\n+----+-------------+---------------------------------+------------+-----------------------------------------------+-----+-----------------+-----------------+----------------+\n|2011|A            |Agriculture, Forestry and Fishing|a_0         |Activity unit                                  |46134|COUNT            |0.0              |4.6134E11       |\n|2011|A            |Agriculture, Forestry and Fishing|a_0         |Rolling mean employees                         |0    |COUNT            |0.0              |0.0             |\n|2011|A            |Agriculture, Forestry and Fishing|a_0         |Salaries and wages paid                        |279  |DOLLARS(millions)|2.79E9           |0.0             |\n|2011|A            |Agriculture, Forestry and Fishing|a_0         |Sales, government funding, grants and subsidies|8187 |DOLLARS(millions)|8.187E10         |0.0             |\n|2011|A            |Agriculture, Forestry and Fishing|a_0         |Total income                                   |8866 |DOLLARS(millions)|8.866E10         |0.0             |\n+----+-------------+---------------------------------+------------+-----------------------------------------------+-----+-----------------+-----------------+----------------+\nonly showing top 5 rows\n\n"
     ]
    }
   ],
   "source": [
    "df_final=df.withColumn(\"Amount_in_Dollers\",when(df.unit==\"DOLLARS(millions)\",df.value*10000000).when(df.unit!=\"DOLLARS(millions)\",0)).withColumn(\"Amount_in_Rupees\",when(df.unit==\"COUNT\",df.value*10000000).when(df.unit!=\"COUNT\",0))\n",
    "df_final.show(5,truncate=False)"
   ]
  },
  {
   "cell_type": "markdown",
   "metadata": {
    "application/vnd.databricks.v1+cell": {
     "cellMetadata": {},
     "inputWidgets": {},
     "nuid": "1a114405-d918-4f1d-b840-7cbbf3506841",
     "showTitle": false,
     "title": ""
    }
   },
   "source": [
    "####\n",
    "4. Remove the columns \"value\",\"unit\",\"rme_size_grp\" from the df and save the new dataframe to a new path"
   ]
  },
  {
   "cell_type": "code",
   "execution_count": 0,
   "metadata": {
    "application/vnd.databricks.v1+cell": {
     "cellMetadata": {
      "byteLimit": 2048000,
      "rowLimit": 10000
     },
     "inputWidgets": {},
     "nuid": "33f77bf6-b806-4b9b-8b2e-792a57547089",
     "showTitle": false,
     "title": ""
    }
   },
   "outputs": [],
   "source": [
    "df_final=df_final.drop(\"value\",\"unit\",\"rme_size_grp\")"
   ]
  },
  {
   "cell_type": "code",
   "execution_count": 0,
   "metadata": {
    "application/vnd.databricks.v1+cell": {
     "cellMetadata": {
      "byteLimit": 2048000,
      "rowLimit": 10000
     },
     "inputWidgets": {},
     "nuid": "80852537-fa63-4959-92dc-e24a93b6a013",
     "showTitle": false,
     "title": ""
    }
   },
   "outputs": [],
   "source": [
    "df_final.write.format(\"csv\").mode(\"overwrite\").option(\"delimiter\",\"|\").option(\"Header\",True).save(\"/FileStore/tables/Annual_finance\")"
   ]
  },
  {
   "cell_type": "code",
   "execution_count": 0,
   "metadata": {
    "application/vnd.databricks.v1+cell": {
     "cellMetadata": {
      "byteLimit": 2048000,
      "rowLimit": 10000
     },
     "inputWidgets": {},
     "nuid": "eb72db90-6380-418b-84d4-787df4126b20",
     "showTitle": false,
     "title": ""
    }
   },
   "outputs": [
    {
     "output_type": "stream",
     "name": "stdout",
     "output_type": "stream",
     "text": [
      "+----+-------------+---------------------------------+-----------------------------------------------+-----------------+----------------+\n|year|industry_code|industry_name                    |variable                                       |Amount_in_Dollers|Amount_in_Rupees|\n+----+-------------+---------------------------------+-----------------------------------------------+-----------------+----------------+\n|2011|A            |Agriculture, Forestry and Fishing|Activity unit                                  |0.0              |4.6134E11       |\n|2011|A            |Agriculture, Forestry and Fishing|Rolling mean employees                         |0.0              |0.0             |\n|2011|A            |Agriculture, Forestry and Fishing|Salaries and wages paid                        |2.79E9           |0.0             |\n|2011|A            |Agriculture, Forestry and Fishing|Sales, government funding, grants and subsidies|8.187E10         |0.0             |\n|2011|A            |Agriculture, Forestry and Fishing|Total income                                   |8.866E10         |0.0             |\n+----+-------------+---------------------------------+-----------------------------------------------+-----------------+----------------+\nonly showing top 5 rows\n\n"
     ]
    }
   ],
   "source": [
    "df_a=spark.read.format(\"csv\").option(\"delimiter\",\"|\").option(\"Header\",True).option(\"Inferschema\",True).load(\"/FileStore/tables/Annual_finance\")\n",
    "df_a.show(5,truncate=False)"
   ]
  },
  {
   "cell_type": "markdown",
   "metadata": {
    "application/vnd.databricks.v1+cell": {
     "cellMetadata": {},
     "inputWidgets": {},
     "nuid": "f2c00801-33e0-4724-b0f8-3d6e47253f03",
     "showTitle": false,
     "title": ""
    }
   },
   "source": [
    "####\n",
    "5. Use the new path data and print Industry wise max amount in dollers and rupees "
   ]
  },
  {
   "cell_type": "code",
   "execution_count": 0,
   "metadata": {
    "application/vnd.databricks.v1+cell": {
     "cellMetadata": {
      "byteLimit": 2048000,
      "rowLimit": 10000
     },
     "inputWidgets": {},
     "nuid": "25073cec-20b2-4be3-b312-0b2516387fc8",
     "showTitle": false,
     "title": ""
    }
   },
   "outputs": [
    {
     "output_type": "stream",
     "name": "stdout",
     "output_type": "stream",
     "text": [
      "+-----------------------------------------------+-------------+------------+-----------+\n|industry_name                                  |industry_code|maxInDollers|maxInRupees|\n+-----------------------------------------------+-------------+------------+-----------+\n|Construction                                   |E            |7.5961E11   |1.8531E12  |\n|Administrative and Support Services            |N            |1.3271E11   |1.2354E12  |\n|Agriculture, Forestry and Fishing              |A            |1.90239E12  |1.17051E12 |\n|Professional, Scientific and Technical Services|M            |8.8699E11   |1.64619E12 |\n|Electricity, Gas, Water and Waste Services     |D            |8.1502E11   |2.0583E11  |\n|Education and Training                         |P            |7.668E10    |5.3013E11  |\n|All Industries                                 |all          |2.512677E13 |1.903893E13|\n|Health Care and Social Assistance              |Q            |2.8812E11   |1.68642E12 |\n|Transport, Postal and Warehousing              |I            |5.4517E11   |9.9171E11  |\n|Wholesale Trade                                |F            |1.17396E12  |1.1604E12  |\n|Information Media and Telecommunications       |J            |2.6119E11   |3.5154E11  |\n|Manufacturing                                  |C            |1.204E12    |2.41803E12 |\n|Financial and Insurance Services               |K            |1.384037E13 |6.3759E11  |\n|Mining                                         |B            |3.8389E11   |6.183E10   |\n|Arts and Recreation Services                   |R            |1.2534E11   |3.6357E11  |\n|Accommodation and Food Services                |H            |2.0658E11   |1.65963E12 |\n|Rental, Hiring and Real Estate Services        |L            |3.21259E12  |8.0307E11  |\n|Retail Trade                                   |G            |8.3866E11   |2.17713E12 |\n|Public Administration and Safety               |O            |1.796E10    |1.7844E11  |\n|Other Services                                 |S            |1.7874E11   |6.7797E11  |\n+-----------------------------------------------+-------------+------------+-----------+\n\n"
     ]
    }
   ],
   "source": [
    "df_max=df_a.groupBy(\"industry_name\",\"industry_code\").agg(max(df_a.Amount_in_Dollers).alias(\"maxInDollers\"),max(df_a.Amount_in_Rupees).alias(\"maxInRupees\"))\n",
    "df_max.show(truncate=False)"
   ]
  },
  {
   "cell_type": "markdown",
   "metadata": {
    "application/vnd.databricks.v1+cell": {
     "cellMetadata": {},
     "inputWidgets": {},
     "nuid": "a5da8c66-e2ae-4d5b-adb9-b5a8ea78d88b",
     "showTitle": false,
     "title": ""
    }
   },
   "source": [
    "####\n",
    "6. Find the rolling sum of Dollers and Rupees based on years"
   ]
  },
  {
   "cell_type": "code",
   "execution_count": 0,
   "metadata": {
    "application/vnd.databricks.v1+cell": {
     "cellMetadata": {
      "byteLimit": 2048000,
      "rowLimit": 10000
     },
     "inputWidgets": {},
     "nuid": "4203adb7-422b-451f-9a4d-d1293ce9da71",
     "showTitle": false,
     "title": ""
    }
   },
   "outputs": [
    {
     "output_type": "stream",
     "name": "stdout",
     "output_type": "stream",
     "text": [
      "+----+-------------------------+------------------------+\n|year|rollingSumOfDollersByYear|rollingSumOfRupeesByYear|\n+----+-------------------------+------------------------+\n|2011|             1.0705055E14|             5.901936E13|\n|2012|             1.0976783E14|             5.974098E13|\n|2013|             1.0965098E14|             6.019233E13|\n|2014|              1.143449E14|             6.183447E13|\n|2015|             1.2053435E14|             6.435906E13|\n|2016|             1.2556098E14|             6.568677E13|\n|2017|             1.3217385E14|             6.754188E13|\n|2018|             1.3954568E14|             6.959679E13|\n|2019|             1.4864001E14|             7.161339E13|\n|2020|             1.5515498E14|             7.208901E13|\n|2021|             1.6126405E14|             7.170006E13|\n+----+-------------------------+------------------------+\n\n"
     ]
    }
   ],
   "source": [
    "windowSpec  = Window.partitionBy(\"year\").orderBy(\"year\")\n",
    "df_roll=df_a.withColumn(\"rollingSumOfDollersByYear\",sum(df_a.Amount_in_Dollers).over(windowSpec))\\\n",
    "    .withColumn(\"rollingSumOfRupeesByYear\",sum(df_a.Amount_in_Rupees).over(windowSpec))\n",
    "df_roll=df_roll.select(\"year\",\"rollingSumOfDollersByYear\",\"rollingSumOfRupeesByYear\").distinct()\n",
    "df_roll.show()"
   ]
  },
  {
   "cell_type": "markdown",
   "metadata": {
    "application/vnd.databricks.v1+cell": {
     "cellMetadata": {},
     "inputWidgets": {},
     "nuid": "cc631424-274e-4f56-b154-f473b22dd8f4",
     "showTitle": false,
     "title": ""
    }
   },
   "source": [
    "####\n",
    "7. Identifing the Even rows and finding Rolling Sum based on distinct Indust"
   ]
  },
  {
   "cell_type": "code",
   "execution_count": 0,
   "metadata": {
    "application/vnd.databricks.v1+cell": {
     "cellMetadata": {
      "byteLimit": 2048000,
      "rowLimit": 10000
     },
     "inputWidgets": {},
     "nuid": "74671341-a5fd-4ec0-b5fe-c5391856458a",
     "showTitle": true,
     "title": ""
    }
   },
   "outputs": [
    {
     "output_type": "stream",
     "name": "stdout",
     "output_type": "stream",
     "text": [
      "+-----------------------------------------------+--------------------------+---------------------------+\n|industry_name                                  |rollingSumRupeesByIndustry|rollingSumDollersByIndustry|\n+-----------------------------------------------+--------------------------+---------------------------+\n|Agriculture, Forestry and Fishing              |2.143338E13               |3.839772E13                |\n|Mining                                         |4.9725E11                 |5.50996E12                 |\n|Manufacturing                                  |3.462696E13               |4.910199E13                |\n|Electricity, Gas, Water and Waste Services     |1.65303E12                |1.89104E13                 |\n|Construction                                   |2.712648E13               |2.364896E13                |\n|Wholesale Trade                                |9.61449E12                |3.687439E13                |\n|Retail Trade                                   |3.101862E13               |2.828934E13                |\n|Accommodation and Food Services                |1.218984E13               |7.20708E12                 |\n|Transport, Postal and Warehousing              |1.374633E13               |1.597429E13                |\n|Information Media and Telecommunications       |3.68646E12                |7.83069E12                 |\n|Financial and Insurance Services               |1.059972E13               |8.930451E13                |\n|Rental, Hiring and Real Estate Services        |1.087977E13               |5.273384E13                |\n|Professional, Scientific and Technical Services|2.639367E13               |1.876991E13                |\n|Administrative and Support Services            |1.091886E13               |5.19217E12                 |\n|Public Administration and Safety               |1.9482E12                 |5.7092E11                  |\n|Education and Training                         |4.03008E12                |2.45097E12                 |\n|Health Care and Social Assistance              |2.36094E13                |8.61322E12                 |\n|Arts and Recreation Services                   |3.66279E12                |4.1777E12                  |\n|Other Services                                 |1.026495E13               |4.95227E12                 |\n|All Industries                                 |5.152833E13               |3.0462034E14               |\n+-----------------------------------------------+--------------------------+---------------------------+\n\n"
     ]
    }
   ],
   "source": [
    "df_even=df_a.withColumn(\"id\",row_number().over(Window.orderBy(\"year\",\"industry_code\",\"industry_name\",\"variable\",\"Amount_in_Dollers\",\"Amount_in_Rupees\")))\n",
    "df_even=df_even.filter((df_even.id)%2==0)\n",
    "df_even=df_even.withColumn(\"rollingSumRupeesByIndustry\",sum(df_a.Amount_in_Rupees).over(Window.partitionBy(\"industry_code\",\"industry_Name\").orderBy(\"industry_code\",\"industry_Name\"))).withColumn(\"rollingSumDollersByIndustry\",sum(df_a.Amount_in_Dollers).over(Window.partitionBy(\"industry_code\",\"industry_Name\").orderBy(\"industry_code\",\"industry_Name\")))\n",
    "df_even=df_even.select(\"industry_name\",\"rollingSumRupeesByIndustry\",\"rollingSumDollersByIndustry\").distinct()\n",
    "df_even.show(truncate=False)"
   ]
  },
  {
   "cell_type": "markdown",
   "metadata": {
    "application/vnd.databricks.v1+cell": {
     "cellMetadata": {},
     "inputWidgets": {},
     "nuid": "5ff3b0ac-3fc9-425f-93a3-68242dbf3bce",
     "showTitle": false,
     "title": ""
    }
   },
   "source": [
    "####\n",
    "8. identifing the max of value of Amount_in_Rupees and display the year and industry name "
   ]
  },
  {
   "cell_type": "code",
   "execution_count": 0,
   "metadata": {
    "application/vnd.databricks.v1+cell": {
     "cellMetadata": {
      "byteLimit": 2048000,
      "rowLimit": 10000
     },
     "inputWidgets": {},
     "nuid": "bbe41714-baba-4d29-bdad-43d2c0b491d1",
     "showTitle": false,
     "title": ""
    }
   },
   "outputs": [
    {
     "output_type": "stream",
     "name": "stdout",
     "output_type": "stream",
     "text": [
      "19038930000000.0\n+--------------+----+\n|industry_name |year|\n+--------------+----+\n|All Industries|2020|\n+--------------+----+\n\n"
     ]
    }
   ],
   "source": [
    "max_in_rupees=df_a.agg(max(\"Amount_in_Rupees\")).collect()[0][0]\n",
    "df_industry=df_a.select(\"industry_name\",\"year\").filter(df_a.Amount_in_Rupees==max_in_rupees)\n",
    "print(max_in_rupees)\n",
    "df_industry.show(truncate=False)"
   ]
  }
 ],
 "metadata": {
  "application/vnd.databricks.v1+notebook": {
   "dashboards": [],
   "language": "python",
   "notebookMetadata": {
    "mostRecentlyExecutedCommandWithImplicitDF": {
     "commandId": -1,
     "dataframes": [
      "_sqldf"
     ]
    },
    "pythonIndentUnit": 4
   },
   "notebookName": "Finance_analysis",
   "widgets": {}
  }
 },
 "nbformat": 4,
 "nbformat_minor": 0
}
